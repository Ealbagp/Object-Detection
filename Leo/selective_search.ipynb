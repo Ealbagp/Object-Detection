{
 "cells": [
  {
   "cell_type": "code",
   "execution_count": 43,
   "metadata": {},
   "outputs": [],
   "source": [
    "import torch\n",
    "import os\n",
    "import cv2\n",
    "import selectivesearch\n",
    "import matplotlib.pyplot as plt\n",
    "import xml.etree.ElementTree as ET\n",
    "import numpy as np\n",
    " "
   ]
  },
  {
   "cell_type": "code",
   "execution_count": 29,
   "metadata": {},
   "outputs": [],
   "source": [
    "# Define the paths to the image folder and annotations\n",
    "images_path = \"../Potholes/annotated-images\"\n",
    "annotations_path = \"../Potholes/annotated-images\"\n",
    "\n",
    "TARGET_WIDTH, TARGET_HEIGHT = 400, 400\n",
    "\n",
    "\n",
    "# %%\n",
    "# Helper function to parse the XML file for ground truth bounding boxes\n",
    "def parse_xml(annotation_file):\n",
    "    tree = ET.parse(annotation_file)\n",
    "    root = tree.getroot()\n",
    "    boxes = []\n",
    "    for obj in root.findall('object'):\n",
    "        bbox = obj.find('bndbox')\n",
    "        xmin = int(bbox.find('xmin').text)\n",
    "        ymin = int(bbox.find('ymin').text)\n",
    "        xmax = int(bbox.find('xmax').text)\n",
    "        ymax = int(bbox.find('ymax').text)\n",
    "        boxes.append((xmin, ymin, xmax, ymax))\n",
    "\n",
    "    return boxes"
   ]
  },
  {
   "cell_type": "code",
   "execution_count": 30,
   "metadata": {},
   "outputs": [],
   "source": [
    "# Helper function to display an image with bounding boxes\n",
    "def visualize_image(image, boxes, proposals=None, scale_x=1.0, scale_y=1.0):\n",
    "    # Adjust ground truth boxes according to the scale\n",
    "    adjusted_boxes = [(int(xmin * scale_x), int(ymin * scale_y), int(xmax * scale_x), int(ymax * scale_y)) for xmin, ymin, xmax, ymax in boxes]\n",
    "    \n",
    "    # Convert color for display\n",
    "    image = cv2.cvtColor(image, cv2.COLOR_BGR2RGB)\n",
    "    \n",
    "    # Draw ground truth boxes in blue\n",
    "    for (xmin, ymin, xmax, ymax) in adjusted_boxes:\n",
    "        cv2.rectangle(image, (xmin, ymin), (xmax, ymax), (255, 0, 0), 2)\n",
    "    \n",
    "    # Draw Selective Search proposals in green if provided\n",
    "    if proposals:\n",
    "        for (x, y, w, h) in proposals:\n",
    "            cv2.rectangle(image, (x, y), (x + w, y + h), (0, 255, 0), 1)\n",
    "    \n",
    "    plt.imshow(image)\n",
    "    plt.axis('off')\n",
    "    plt.show()"
   ]
  },
  {
   "cell_type": "code",
   "execution_count": 39,
   "metadata": {},
   "outputs": [],
   "source": [
    "# Function to run Selective Search and obtain proposals\n",
    "def get_proposals(image):\n",
    "    _, regions = selectivesearch.selective_search(image, scale=600, sigma=0.8, min_size=100)\n",
    "    proposals = []\n",
    "    for r in regions:\n",
    "        if r['rect'] in proposals:\n",
    "            continue\n",
    "        x, y, w, h = r['rect']\n",
    "        if w > 20 and h > 20:  # Filter small regions\n",
    "            proposals.append((x, y, w, h))\n",
    "    return proposals"
   ]
  },
  {
   "cell_type": "code",
   "execution_count": null,
   "metadata": {},
   "outputs": [],
   "source": [
    "# Loop through images, resize if needed, and apply Selective Search\n",
    "for image_filename in os.listdir(images_path):\n",
    "    if image_filename.endswith(\".jpg\"):\n",
    "        image_path = os.path.join(images_path, image_filename)\n",
    "        xml_filename = image_filename.replace(\".jpg\", \".xml\")\n",
    "        xml_path = os.path.join(annotations_path, xml_filename)\n",
    "\n",
    "        image = cv2.imread(image_path)\n",
    "        \n",
    "        # Calculate scaling factors\n",
    "        orig_height, orig_width = image.shape[:2]\n",
    "        scale_x = TARGET_WIDTH / orig_width\n",
    "        scale_y = TARGET_HEIGHT / orig_height\n",
    "\n",
    "        # Resize the image to improve Selective Search efficiency\n",
    "        resized_image = cv2.resize(image, (TARGET_WIDTH, TARGET_HEIGHT))\n",
    "\n",
    "        # Run Selective Search on resized image\n",
    "        proposals = get_proposals(resized_image)\n",
    "\n",
    "        if os.path.exists(xml_path):\n",
    "            boxes = parse_xml(xml_path)\n",
    "            #visualize_image(resized_image, boxes, proposals[:20], scale_x=scale_x, scale_y=scale_y)  # To Display uncomment\n",
    "\n",
    "        # Break to only visualize a few images\n",
    "        # if len(proposals) > 10:\n",
    "        #     break"
   ]
  },
  {
   "cell_type": "markdown",
   "metadata": {},
   "source": [
    "## TO DO: METRICS: RECALL AND MABO"
   ]
  },
  {
   "cell_type": "markdown",
   "metadata": {},
   "source": [
    "## Evaluate Proposals by Calculating Recall"
   ]
  },
  {
   "cell_type": "markdown",
   "metadata": {},
   "source": [
    "Recall=  Total number of ground-truth boxes / Number of detected ground-truth boxes"
   ]
  },
  {
   "cell_type": "code",
   "execution_count": 44,
   "metadata": {},
   "outputs": [],
   "source": [
    "# Constants\n",
    "IOU_THRESHOLD = 0.5  # For recall calculation\n",
    "TARGET_PROPOSALS = range(10, 200, 10)  # Range of number of proposals to test (adjust as needed)\n",
    "\n",
    "# Helper function to calculate IoU between two bounding boxes\n",
    "def calculate_iou(boxA, boxB):\n",
    "    xA = max(boxA[0], boxB[0])\n",
    "    yA = max(boxA[1], boxB[1])\n",
    "    xB = min(boxA[2], boxB[2])\n",
    "    yB = min(boxA[3], boxB[3])\n",
    "\n",
    "    interArea = max(0, xB - xA + 1) * max(0, yB - yA + 1)\n",
    "    boxAArea = (boxA[2] - boxA[0] + 1) * (boxA[3] - boxA[1] + 1)\n",
    "    boxBArea = (boxB[2] - boxB[0] + 1) * (boxB[3] - boxB[1] + 1)\n",
    "\n",
    "    iou = interArea / float(boxAArea + boxBArea - interArea)\n",
    "    return iou"
   ]
  }
 ],
 "metadata": {
  "kernelspec": {
   "display_name": "DL",
   "language": "python",
   "name": "python3"
  },
  "language_info": {
   "codemirror_mode": {
    "name": "ipython",
    "version": 3
   },
   "file_extension": ".py",
   "mimetype": "text/x-python",
   "name": "python",
   "nbconvert_exporter": "python",
   "pygments_lexer": "ipython3",
   "version": "3.12.3"
  }
 },
 "nbformat": 4,
 "nbformat_minor": 2
}
