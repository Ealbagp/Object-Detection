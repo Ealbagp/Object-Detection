{
 "cells": [
  {
   "cell_type": "code",
   "execution_count": null,
   "metadata": {},
   "outputs": [],
   "source": [
    "import os\n",
    "import xml.etree.ElementTree as ET\n",
    "import cv2\n",
    "import matplotlib.pyplot as plt\n"
   ]
  },
  {
   "cell_type": "code",
   "execution_count": null,
   "metadata": {},
   "outputs": [],
   "source": [
    "# Define the paths to the image folder and annotations\n",
    "images_path = \"../../../Potholes/annotated-images\"\n",
    "annotations_path = \"../../../Potholes/annotated-images\""
   ]
  },
  {
   "cell_type": "code",
   "execution_count": null,
   "metadata": {},
   "outputs": [],
   "source": [
    "# Helper function to parse the XML file\n",
    "def parse_xml(annotation_file):\n",
    "    tree = ET.parse(annotation_file)\n",
    "    root = tree.getroot()\n",
    "    boxes = []\n",
    "    \n",
    "    for obj in root.findall('object'):\n",
    "        bbox = obj.find('bndbox')\n",
    "        xmin = int(bbox.find('xmin').text)\n",
    "        ymin = int(bbox.find('ymin').text)\n",
    "        xmax = int(bbox.find('xmax').text)\n",
    "        ymax = int(bbox.find('ymax').text)\n",
    "        boxes.append((xmin, ymin, xmax, ymax))\n",
    "    \n",
    "    return boxes"
   ]
  },
  {
   "cell_type": "code",
   "execution_count": null,
   "metadata": {},
   "outputs": [],
   "source": [
    "# Helper function to display an image with bounding boxes\n",
    "def visualize_image(image_file, boxes):\n",
    "    image = cv2.imread(image_file)\n",
    "    image = cv2.cvtColor(image, cv2.COLOR_BGR2RGB)\n",
    "    \n",
    "    for (xmin, ymin, xmax, ymax) in boxes:\n",
    "        cv2.rectangle(image, (xmin, ymin), (xmax, ymax), (255, 0, 0), 2)\n",
    "    \n",
    "    plt.imshow(image)\n",
    "    plt.axis('off')\n",
    "    plt.show()"
   ]
  },
  {
   "cell_type": "code",
   "execution_count": null,
   "metadata": {},
   "outputs": [],
   "source": [
    "# Loop through some images and visualize them\n",
    "for image_filename in os.listdir(images_path):\n",
    "    if image_filename.endswith(\".jpg\"):\n",
    "        image_path = os.path.join(images_path, image_filename)\n",
    "        xml_filename = image_filename.replace(\".jpg\", \".xml\")\n",
    "        xml_path = os.path.join(annotations_path, xml_filename)\n",
    "        \n",
    "        if os.path.exists(xml_path):\n",
    "            boxes = parse_xml(xml_path)\n",
    "            visualize_image(image_path, boxes)\n",
    "            \n",
    "        # Display only a few examples for familiarity\n",
    "        if len(boxes) > 5:\n",
    "            break  # Remove this line if you want to display more images"
   ]
  }
 ],
 "metadata": {
  "kernelspec": {
   "display_name": "venv_1",
   "language": "python",
   "name": "python3"
  },
  "language_info": {
   "codemirror_mode": {
    "name": "ipython",
    "version": 3
   },
   "file_extension": ".py",
   "mimetype": "text/x-python",
   "name": "python",
   "nbconvert_exporter": "python",
   "pygments_lexer": "ipython3",
   "version": "3.10.13"
  }
 },
 "nbformat": 4,
 "nbformat_minor": 2
}
